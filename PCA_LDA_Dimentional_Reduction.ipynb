{
  "nbformat": 4,
  "nbformat_minor": 0,
  "metadata": {
    "colab": {
      "name": "Copy of PCA-LDA_Dimentional Reduction.ipynb",
      "provenance": [],
      "include_colab_link": true
    },
    "kernelspec": {
      "name": "python3",
      "display_name": "Python 3"
    },
    "language_info": {
      "name": "python"
    }
  },
  "cells": [
    {
      "cell_type": "markdown",
      "metadata": {
        "id": "view-in-github",
        "colab_type": "text"
      },
      "source": [
        "<a href=\"https://colab.research.google.com/github/Akanerd/DataScience-Orbit/blob/main/PCA_LDA_Dimentional_Reduction.ipynb\" target=\"_parent\"><img src=\"https://colab.research.google.com/assets/colab-badge.svg\" alt=\"Open In Colab\"/></a>"
      ]
    },
    {
      "cell_type": "markdown",
      "source": [
        "# PCA"
      ],
      "metadata": {
        "id": "t2Bn9XP945xR"
      }
    },
    {
      "cell_type": "code",
      "execution_count": null,
      "metadata": {
        "id": "oIdvQDSxqii8"
      },
      "outputs": [],
      "source": [
        "import numpy as np #hanya numpy :v"
      ]
    },
    {
      "cell_type": "markdown",
      "source": [
        "## Step 1"
      ],
      "metadata": {
        "id": "sp1fksOT4YDr"
      }
    },
    {
      "cell_type": "code",
      "source": [
        "#dummy dataset\n",
        "X = np.random.randint(5,50,200).reshape(25,8) \n",
        "# mean Centering the data  \n",
        "X_standrdize = X - np.mean(X , axis = 0)\n",
        "X_standrdize /= np.std(X_standrdize, axis=0)"
      ],
      "metadata": {
        "id": "0YUe25VwsHDS"
      },
      "execution_count": null,
      "outputs": []
    },
    {
      "cell_type": "markdown",
      "source": [
        "## Step 2"
      ],
      "metadata": {
        "id": "dBm3YJGj4cd6"
      }
    },
    {
      "cell_type": "code",
      "source": [
        "# calculating the covariance matrix of the mean-centered data.\n",
        "matx_covar = np.cov(X_standrdize , rowvar = False)"
      ],
      "metadata": {
        "id": "2zug4JCtsZ5j"
      },
      "execution_count": null,
      "outputs": []
    },
    {
      "cell_type": "markdown",
      "source": [
        "## Step 3"
      ],
      "metadata": {
        "id": "UAlr7CEZ4eYG"
      }
    },
    {
      "cell_type": "code",
      "source": [
        "#Calculating Eigenvalues and Eigenvectors of the covariance matrix\n",
        "eig_vals , eig_vect = np.linalg.eigh(matx_covar)"
      ],
      "metadata": {
        "id": "mDl15A_hs-9B"
      },
      "execution_count": null,
      "outputs": []
    },
    {
      "cell_type": "code",
      "source": [
        "eig_vals"
      ],
      "metadata": {
        "colab": {
          "base_uri": "https://localhost:8080/"
        },
        "id": "XOODp9W9ww0I",
        "outputId": "f7886f08-3ec3-4a81-b5b9-fc93957b88e1"
      },
      "execution_count": null,
      "outputs": [
        {
          "output_type": "execute_result",
          "data": {
            "text/plain": [
              "array([0.28841921, 0.41572873, 0.80359729, 0.93743431, 1.14717625,\n",
              "       1.25840679, 1.64099696, 1.84157379])"
            ]
          },
          "metadata": {},
          "execution_count": 5
        }
      ]
    },
    {
      "cell_type": "code",
      "source": [
        "eig_vect"
      ],
      "metadata": {
        "colab": {
          "base_uri": "https://localhost:8080/"
        },
        "id": "HRi429yxwy2y",
        "outputId": "3f7404d3-a6bb-4391-feed-35236ff893f5"
      },
      "execution_count": null,
      "outputs": [
        {
          "output_type": "execute_result",
          "data": {
            "text/plain": [
              "array([[ 0.25800473, -0.6617158 ,  0.02901588,  0.21821463, -0.10294737,\n",
              "         0.09870948,  0.27545781, -0.59235756],\n",
              "       [-0.51935577, -0.02538685, -0.18855191, -0.08981667,  0.63069739,\n",
              "        -0.3181118 , -0.05599607, -0.42883139],\n",
              "       [ 0.00412703, -0.13672678,  0.50952029, -0.58295335, -0.15625467,\n",
              "        -0.53138552,  0.27232003,  0.0299822 ],\n",
              "       [-0.32047763,  0.14116485,  0.12602991,  0.6938789 , -0.21439091,\n",
              "        -0.40882593,  0.39178645,  0.11582913],\n",
              "       [ 0.20876368,  0.2730956 , -0.58119052, -0.12706128, -0.46475308,\n",
              "        -0.42999249, -0.11937326, -0.33581333],\n",
              "       [-0.06297118, -0.65219664, -0.3056599 ,  0.0626722 , -0.01634028,\n",
              "        -0.33204325, -0.33299955,  0.50190633],\n",
              "       [-0.54253795, -0.08728898,  0.29261338, -0.00394324, -0.49767944,\n",
              "         0.16787494, -0.52155671, -0.25398196],\n",
              "       [ 0.4680653 ,  0.12371316,  0.41385845,  0.32081908,  0.23936666,\n",
              "        -0.3409162 , -0.54421736, -0.14735483]])"
            ]
          },
          "metadata": {},
          "execution_count": 6
        }
      ]
    },
    {
      "cell_type": "markdown",
      "source": [
        "## Step 4"
      ],
      "metadata": {
        "id": "7OrEJoby4hxn"
      }
    },
    {
      "cell_type": "code",
      "source": [
        "sort_idx = np.argsort(eig_vals)[::-1] #sort_idx\n",
        "\n",
        "#sorted eigen values and eigen vectors \n",
        "eigenvalue_sorted = eig_vals[sort_idx]\n",
        "eigenvectors_sorted = eig_vect[:,sort_idx]"
      ],
      "metadata": {
        "id": "NFpltwSftBWA"
      },
      "execution_count": null,
      "outputs": []
    },
    {
      "cell_type": "code",
      "source": [
        "sort_idx"
      ],
      "metadata": {
        "colab": {
          "base_uri": "https://localhost:8080/"
        },
        "id": "kdK26SPFxDBY",
        "outputId": "e64b0d51-8599-4e6f-ec96-fd7f97c8dc7b"
      },
      "execution_count": null,
      "outputs": [
        {
          "output_type": "execute_result",
          "data": {
            "text/plain": [
              "array([7, 6, 5, 4, 3, 2, 1, 0])"
            ]
          },
          "metadata": {},
          "execution_count": 8
        }
      ]
    },
    {
      "cell_type": "code",
      "source": [
        "eigenvalue_sorted"
      ],
      "metadata": {
        "colab": {
          "base_uri": "https://localhost:8080/"
        },
        "id": "9CK6o9XpxFwW",
        "outputId": "ad81d07f-4d6e-4634-91d0-a5d285fdb798"
      },
      "execution_count": null,
      "outputs": [
        {
          "output_type": "execute_result",
          "data": {
            "text/plain": [
              "array([1.84157379, 1.64099696, 1.25840679, 1.14717625, 0.93743431,\n",
              "       0.80359729, 0.41572873, 0.28841921])"
            ]
          },
          "metadata": {},
          "execution_count": 9
        }
      ]
    },
    {
      "cell_type": "code",
      "source": [
        "eigenvectors_sorted"
      ],
      "metadata": {
        "colab": {
          "base_uri": "https://localhost:8080/"
        },
        "id": "tJVLWxdRxH7q",
        "outputId": "976d8a70-e16f-41b0-f582-333e5eb77168"
      },
      "execution_count": null,
      "outputs": [
        {
          "output_type": "execute_result",
          "data": {
            "text/plain": [
              "array([[-0.59235756,  0.27545781,  0.09870948, -0.10294737,  0.21821463,\n",
              "         0.02901588, -0.6617158 ,  0.25800473],\n",
              "       [-0.42883139, -0.05599607, -0.3181118 ,  0.63069739, -0.08981667,\n",
              "        -0.18855191, -0.02538685, -0.51935577],\n",
              "       [ 0.0299822 ,  0.27232003, -0.53138552, -0.15625467, -0.58295335,\n",
              "         0.50952029, -0.13672678,  0.00412703],\n",
              "       [ 0.11582913,  0.39178645, -0.40882593, -0.21439091,  0.6938789 ,\n",
              "         0.12602991,  0.14116485, -0.32047763],\n",
              "       [-0.33581333, -0.11937326, -0.42999249, -0.46475308, -0.12706128,\n",
              "        -0.58119052,  0.2730956 ,  0.20876368],\n",
              "       [ 0.50190633, -0.33299955, -0.33204325, -0.01634028,  0.0626722 ,\n",
              "        -0.3056599 , -0.65219664, -0.06297118],\n",
              "       [-0.25398196, -0.52155671,  0.16787494, -0.49767944, -0.00394324,\n",
              "         0.29261338, -0.08728898, -0.54253795],\n",
              "       [-0.14735483, -0.54421736, -0.3409162 ,  0.23936666,  0.32081908,\n",
              "         0.41385845,  0.12371316,  0.4680653 ]])"
            ]
          },
          "metadata": {},
          "execution_count": 10
        }
      ]
    },
    {
      "cell_type": "code",
      "source": [
        "n_components = 2 #menentukan n komponen\n",
        "eigenvector_ncomp = eigenvectors_sorted[:,0:n_components] #pilih eigen vektor berdasarkan jumlah komponennya"
      ],
      "metadata": {
        "id": "29u0K-4WtFcu"
      },
      "execution_count": null,
      "outputs": []
    },
    {
      "cell_type": "code",
      "source": [
        "eigenvector_ncomp"
      ],
      "metadata": {
        "colab": {
          "base_uri": "https://localhost:8080/"
        },
        "id": "SKxrJ7Tuwm1B",
        "outputId": "d17bc710-d897-4f6d-a114-34a20f419ff2"
      },
      "execution_count": null,
      "outputs": [
        {
          "output_type": "execute_result",
          "data": {
            "text/plain": [
              "array([[-0.59235756,  0.27545781],\n",
              "       [-0.42883139, -0.05599607],\n",
              "       [ 0.0299822 ,  0.27232003],\n",
              "       [ 0.11582913,  0.39178645],\n",
              "       [-0.33581333, -0.11937326],\n",
              "       [ 0.50190633, -0.33299955],\n",
              "       [-0.25398196, -0.52155671],\n",
              "       [-0.14735483, -0.54421736]])"
            ]
          },
          "metadata": {},
          "execution_count": 12
        }
      ]
    },
    {
      "cell_type": "markdown",
      "source": [
        "## Step 5"
      ],
      "metadata": {
        "id": "N61Llnna4my_"
      }
    },
    {
      "cell_type": "code",
      "source": [
        "#Transform the data \n",
        "X_reduced = np.dot(eigenvector_ncomp.transpose(),X_standrdize.transpose()).transpose()\n"
      ],
      "metadata": {
        "id": "vqLaXZ7htGPh"
      },
      "execution_count": null,
      "outputs": []
    },
    {
      "cell_type": "code",
      "source": [
        "X_standrdize"
      ],
      "metadata": {
        "colab": {
          "base_uri": "https://localhost:8080/"
        },
        "id": "QCMvTnbPtOof",
        "outputId": "c990b193-fe2c-4ff3-8cb8-b3c6dcd6ac5d"
      },
      "execution_count": null,
      "outputs": [
        {
          "output_type": "execute_result",
          "data": {
            "text/plain": [
              "array([[ 0.66598476, -1.37860767,  1.04440542, -0.86571726, -0.66205922,\n",
              "         0.19387875, -0.18003267, -1.16699088],\n",
              "       [-0.27919012, -0.85903192,  1.28691442,  1.5027545 ,  0.19271207,\n",
              "         1.61068496,  0.48402226, -0.50013895],\n",
              "       [-0.4973074 , -0.68584   ,  1.20607808, -1.60076022,  0.81436393,\n",
              "        -1.29749622,  1.29564496, -1.25034737],\n",
              "       [-0.06107284,  0.1801196 , -1.2190119 , -0.62070294, -0.73976571,\n",
              "         1.31240997, -1.06543925,  0.25006947],\n",
              "       [-0.4973074 , -0.16626424,  0.72106009,  1.66609738,  0.503538  ,\n",
              "        -0.178965  ,  0.18888674,  0.75020842],\n",
              "       [ 1.82927692,  2.25842262,  0.47855109,  0.6860401 ,  0.96977689,\n",
              "        -1.22292747, -0.25381655, -0.9169214 ],\n",
              "       [-0.93354196, -0.07966828, -0.65315757, -0.1306743 , -1.36141756,\n",
              "         0.19387875,  1.29564496,  1.9171993 ],\n",
              "       [ 1.75657116, -0.77243596,  0.15520576,  0.19601146, -1.74994997,\n",
              "        -1.37206497,  0.85294167,  1.16699088],\n",
              "       [-0.4973074 ,  0.35331151,  0.47855109, -1.11073158, -0.19582033,\n",
              "         0.41758499,  0.41023838, -0.08335649],\n",
              "       [-1.15165924,  0.09352364, -0.9765029 , -0.45736006, -1.74994997,\n",
              "         1.46154747,  1.29564496,  0.        ],\n",
              "       [ 0.30245596, -0.16626424,  1.20607808,  1.17606874,  0.34812504,\n",
              "         1.38697872, -0.54895208,  0.41678246],\n",
              "       [-1.00624772,  0.00692768, -0.41064857,  0.76771154, -0.11811385,\n",
              "         0.56672249, -1.80327807,  0.41678246],\n",
              "       [ 0.08433868, -0.77243596, -1.54235723,  0.93105442, -1.05059163,\n",
              "        -1.37206497, -1.36057478, -1.50041684],\n",
              "       [ 1.17492508, -1.37860767,  0.47855109,  0.03266858,  0.58124448,\n",
              "        -1.14835872, -0.03246491, -1.50041684],\n",
              "       [-1.36977651, -0.07966828,  0.72106009,  0.6860401 , -1.28371108,\n",
              "        -0.40267124, -1.72949418, -1.25034737],\n",
              "       [ 1.3203366 ,  0.61309939, -1.2190119 , -0.70237438,  0.34812504,\n",
              "        -0.32810249, -0.25381655, -0.58349544],\n",
              "       [ 1.10221932,  2.43161454, -0.57232124, -1.11073158,  1.66913523,\n",
              "        -0.40267124,  0.55780614,  1.16699088],\n",
              "       [ 0.01163292,  1.99863474,  0.80189642, -1.3557459 , -1.51683052,\n",
              "        -1.29749622, -1.21300701,  1.00027789],\n",
              "       [ 0.52057324,  0.35331151,  1.12524175,  0.2776829 ,  1.43601578,\n",
              "        -0.99922123,  1.07429332,  1.33370386],\n",
              "       [-0.20648436, -0.94562788, -0.41064857,  1.01272586, -0.19582033,\n",
              "         0.04474125, -0.91787149, -1.08363438],\n",
              "       [-0.57001316,  0.52650343,  1.36775075,  0.11434002,  0.73665745,\n",
              "         1.61068496, -1.36057478,  0.25006947],\n",
              "       [-1.29707076, -0.33945616, -0.00646691,  0.6860401 ,  1.12518985,\n",
              "         0.56672249,  0.3364545 ,  1.08363438],\n",
              "       [-1.224365  , -0.16626424, -0.57232124, -1.27407446,  0.03729911,\n",
              "         0.49215374,  0.41023838, -1.00027789],\n",
              "       [-0.93354196, -1.29201171, -1.78486623, -1.68243166,  1.04748337,\n",
              "         0.93956623,  1.36942884,  1.00027789],\n",
              "       [ 1.75657116,  0.26671555, -1.70402989,  1.17606874,  0.81436393,\n",
              "        -0.77551498,  1.1480772 ,  0.08335649]])"
            ]
          },
          "metadata": {},
          "execution_count": 15
        }
      ]
    },
    {
      "cell_type": "code",
      "source": [
        "X_reduced"
      ],
      "metadata": {
        "colab": {
          "base_uri": "https://localhost:8080/"
        },
        "id": "Am8lpVjytRdh",
        "outputId": "1e1c550f-d732-4052-a0f3-50a67a201ef6"
      },
      "execution_count": null,
      "outputs": [
        {
          "output_type": "execute_result",
          "data": {
            "text/plain": [
              "array([[ 0.6650515 ,  0.9493481 ],\n",
              "       [ 1.44087017,  0.37078592],\n",
              "       [-0.63008184, -0.05773902],\n",
              "       [ 0.99137534, -0.53118218],\n",
              "       [ 0.16304561,  0.21413112],\n",
              "       [-2.69813849,  1.69937922],\n",
              "       [ 0.495348  , -2.10292476],\n",
              "       [-1.17150129,  0.232015  ],\n",
              "       [ 0.21220313, -0.74590024],\n",
              "       [ 1.55198086, -1.721129  ],\n",
              "       [ 0.72175854,  0.43790029],\n",
              "       [ 1.39038986,  0.45045727],\n",
              "       [ 0.57369579,  2.11972424],\n",
              "       [-0.62887251,  1.69046012],\n",
              "       [ 1.79913323,  1.96210596],\n",
              "       [-1.29406775,  0.23985298],\n",
              "       [-2.91773066, -1.41475506],\n",
              "       [-0.97812395,  0.2799163 ],\n",
              "       [-1.8471031 , -0.58598118],\n",
              "       [ 1.11383505,  1.35794973],\n",
              "       [ 1.03586859,  0.17999627],\n",
              "       [ 0.65462438, -1.15950857],\n",
              "       [ 0.90951896, -0.82090389],\n",
              "       [ 0.48326634, -3.02653263],\n",
              "       [-2.03634577, -0.017466  ]])"
            ]
          },
          "metadata": {},
          "execution_count": 16
        }
      ]
    },
    {
      "cell_type": "markdown",
      "source": [
        "# End to end PCA"
      ],
      "metadata": {
        "id": "Wa0BjT9l43Cr"
      }
    },
    {
      "cell_type": "code",
      "source": [
        ""
      ],
      "metadata": {
        "id": "WgLDqU0I5Ad5"
      },
      "execution_count": null,
      "outputs": []
    },
    {
      "cell_type": "code",
      "source": [
        ""
      ],
      "metadata": {
        "id": "nQWBNPVaZzQV"
      },
      "execution_count": null,
      "outputs": []
    }
  ]
}